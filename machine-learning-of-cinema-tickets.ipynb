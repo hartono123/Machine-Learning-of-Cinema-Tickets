{
 "cells": [
  {
   "cell_type": "code",
   "execution_count": 1,
   "id": "92bd8f80",
   "metadata": {
    "execution": {
     "iopub.execute_input": "2022-08-16T02:08:13.031705Z",
     "iopub.status.busy": "2022-08-16T02:08:13.030969Z",
     "iopub.status.idle": "2022-08-16T02:08:14.226639Z",
     "shell.execute_reply": "2022-08-16T02:08:14.225450Z"
    },
    "id": "ux0Tc7NFsk89",
    "papermill": {
     "duration": 1.210713,
     "end_time": "2022-08-16T02:08:14.229774",
     "exception": false,
     "start_time": "2022-08-16T02:08:13.019061",
     "status": "completed"
    },
    "tags": []
   },
   "outputs": [],
   "source": [
    "import pandas as pd\n",
    "import matplotlib.pyplot as plt\n",
    "import numpy as np\n",
    "import seaborn as sns\n",
    "\n",
    "%matplotlib inline"
   ]
  },
  {
   "cell_type": "code",
   "execution_count": 2,
   "id": "c388fd6a",
   "metadata": {
    "execution": {
     "iopub.execute_input": "2022-08-16T02:08:14.249753Z",
     "iopub.status.busy": "2022-08-16T02:08:14.248887Z",
     "iopub.status.idle": "2022-08-16T02:08:14.613964Z",
     "shell.execute_reply": "2022-08-16T02:08:14.612694Z"
    },
    "id": "pWVhhLVPs4bp",
    "outputId": "eb29b39b-014e-4219-86e4-4f864ce03436",
    "papermill": {
     "duration": 0.378341,
     "end_time": "2022-08-16T02:08:14.617190",
     "exception": false,
     "start_time": "2022-08-16T02:08:14.238849",
     "status": "completed"
    },
    "tags": []
   },
   "outputs": [
    {
     "data": {
      "text/html": [
       "<div>\n",
       "<style scoped>\n",
       "    .dataframe tbody tr th:only-of-type {\n",
       "        vertical-align: middle;\n",
       "    }\n",
       "\n",
       "    .dataframe tbody tr th {\n",
       "        vertical-align: top;\n",
       "    }\n",
       "\n",
       "    .dataframe thead th {\n",
       "        text-align: right;\n",
       "    }\n",
       "</style>\n",
       "<table border=\"1\" class=\"dataframe\">\n",
       "  <thead>\n",
       "    <tr style=\"text-align: right;\">\n",
       "      <th></th>\n",
       "      <th>film_code</th>\n",
       "      <th>cinema_code</th>\n",
       "      <th>total_sales</th>\n",
       "      <th>tickets_sold</th>\n",
       "      <th>tickets_out</th>\n",
       "      <th>show_time</th>\n",
       "      <th>occu_perc</th>\n",
       "      <th>ticket_price</th>\n",
       "      <th>ticket_use</th>\n",
       "      <th>capacity</th>\n",
       "      <th>date</th>\n",
       "      <th>month</th>\n",
       "      <th>quarter</th>\n",
       "      <th>day</th>\n",
       "    </tr>\n",
       "  </thead>\n",
       "  <tbody>\n",
       "    <tr>\n",
       "      <th>0</th>\n",
       "      <td>1492</td>\n",
       "      <td>304</td>\n",
       "      <td>3900000</td>\n",
       "      <td>26</td>\n",
       "      <td>0</td>\n",
       "      <td>4</td>\n",
       "      <td>4.26</td>\n",
       "      <td>150000.0</td>\n",
       "      <td>26</td>\n",
       "      <td>610.328638</td>\n",
       "      <td>2018-05-05</td>\n",
       "      <td>5</td>\n",
       "      <td>2</td>\n",
       "      <td>5</td>\n",
       "    </tr>\n",
       "    <tr>\n",
       "      <th>1</th>\n",
       "      <td>1492</td>\n",
       "      <td>352</td>\n",
       "      <td>3360000</td>\n",
       "      <td>42</td>\n",
       "      <td>0</td>\n",
       "      <td>5</td>\n",
       "      <td>8.08</td>\n",
       "      <td>80000.0</td>\n",
       "      <td>42</td>\n",
       "      <td>519.801980</td>\n",
       "      <td>2018-05-05</td>\n",
       "      <td>5</td>\n",
       "      <td>2</td>\n",
       "      <td>5</td>\n",
       "    </tr>\n",
       "    <tr>\n",
       "      <th>2</th>\n",
       "      <td>1492</td>\n",
       "      <td>489</td>\n",
       "      <td>2560000</td>\n",
       "      <td>32</td>\n",
       "      <td>0</td>\n",
       "      <td>4</td>\n",
       "      <td>20.00</td>\n",
       "      <td>80000.0</td>\n",
       "      <td>32</td>\n",
       "      <td>160.000000</td>\n",
       "      <td>2018-05-05</td>\n",
       "      <td>5</td>\n",
       "      <td>2</td>\n",
       "      <td>5</td>\n",
       "    </tr>\n",
       "    <tr>\n",
       "      <th>3</th>\n",
       "      <td>1492</td>\n",
       "      <td>429</td>\n",
       "      <td>1200000</td>\n",
       "      <td>12</td>\n",
       "      <td>0</td>\n",
       "      <td>1</td>\n",
       "      <td>11.01</td>\n",
       "      <td>100000.0</td>\n",
       "      <td>12</td>\n",
       "      <td>108.991826</td>\n",
       "      <td>2018-05-05</td>\n",
       "      <td>5</td>\n",
       "      <td>2</td>\n",
       "      <td>5</td>\n",
       "    </tr>\n",
       "    <tr>\n",
       "      <th>4</th>\n",
       "      <td>1492</td>\n",
       "      <td>524</td>\n",
       "      <td>1200000</td>\n",
       "      <td>15</td>\n",
       "      <td>0</td>\n",
       "      <td>3</td>\n",
       "      <td>16.67</td>\n",
       "      <td>80000.0</td>\n",
       "      <td>15</td>\n",
       "      <td>89.982004</td>\n",
       "      <td>2018-05-05</td>\n",
       "      <td>5</td>\n",
       "      <td>2</td>\n",
       "      <td>5</td>\n",
       "    </tr>\n",
       "  </tbody>\n",
       "</table>\n",
       "</div>"
      ],
      "text/plain": [
       "   film_code  cinema_code  total_sales  tickets_sold  tickets_out  show_time  \\\n",
       "0       1492          304      3900000            26            0          4   \n",
       "1       1492          352      3360000            42            0          5   \n",
       "2       1492          489      2560000            32            0          4   \n",
       "3       1492          429      1200000            12            0          1   \n",
       "4       1492          524      1200000            15            0          3   \n",
       "\n",
       "   occu_perc  ticket_price  ticket_use    capacity        date  month  \\\n",
       "0       4.26      150000.0          26  610.328638  2018-05-05      5   \n",
       "1       8.08       80000.0          42  519.801980  2018-05-05      5   \n",
       "2      20.00       80000.0          32  160.000000  2018-05-05      5   \n",
       "3      11.01      100000.0          12  108.991826  2018-05-05      5   \n",
       "4      16.67       80000.0          15   89.982004  2018-05-05      5   \n",
       "\n",
       "   quarter  day  \n",
       "0        2    5  \n",
       "1        2    5  \n",
       "2        2    5  \n",
       "3        2    5  \n",
       "4        2    5  "
      ]
     },
     "execution_count": 2,
     "metadata": {},
     "output_type": "execute_result"
    }
   ],
   "source": [
    "df = pd.read_csv('../input/cinema-ticket/cinemaTicket_Ref.csv')\n",
    "df.head()"
   ]
  },
  {
   "cell_type": "code",
   "execution_count": 3,
   "id": "7ba91f3a",
   "metadata": {
    "execution": {
     "iopub.execute_input": "2022-08-16T02:08:14.637370Z",
     "iopub.status.busy": "2022-08-16T02:08:14.636441Z",
     "iopub.status.idle": "2022-08-16T02:08:14.653766Z",
     "shell.execute_reply": "2022-08-16T02:08:14.652801Z"
    },
    "id": "YCM1fJC_tNvQ",
    "outputId": "b30535f4-c63f-497f-ef3f-3ee54c26019a",
    "papermill": {
     "duration": 0.029806,
     "end_time": "2022-08-16T02:08:14.656112",
     "exception": false,
     "start_time": "2022-08-16T02:08:14.626306",
     "status": "completed"
    },
    "tags": []
   },
   "outputs": [
    {
     "data": {
      "text/plain": [
       "524    2474\n",
       "489    2407\n",
       "448    2345\n",
       "163    2241\n",
       "518    2193\n",
       "       ... \n",
       "520      12\n",
       "565      10\n",
       "637       5\n",
       "566       2\n",
       "424       1\n",
       "Name: cinema_code, Length: 246, dtype: int64"
      ]
     },
     "execution_count": 3,
     "metadata": {},
     "output_type": "execute_result"
    }
   ],
   "source": [
    "df['cinema_code'].value_counts()"
   ]
  },
  {
   "cell_type": "code",
   "execution_count": 4,
   "id": "51f517be",
   "metadata": {
    "execution": {
     "iopub.execute_input": "2022-08-16T02:08:14.676884Z",
     "iopub.status.busy": "2022-08-16T02:08:14.676050Z",
     "iopub.status.idle": "2022-08-16T02:08:14.685193Z",
     "shell.execute_reply": "2022-08-16T02:08:14.684146Z"
    },
    "id": "6-FjS8rvtXXp",
    "outputId": "25a61aec-6c3c-4762-86c4-ea0952674861",
    "papermill": {
     "duration": 0.02237,
     "end_time": "2022-08-16T02:08:14.687607",
     "exception": false,
     "start_time": "2022-08-16T02:08:14.665237",
     "status": "completed"
    },
    "tags": []
   },
   "outputs": [
    {
     "data": {
      "text/plain": [
       "film_code         int64\n",
       "cinema_code       int64\n",
       "total_sales       int64\n",
       "tickets_sold      int64\n",
       "tickets_out       int64\n",
       "show_time         int64\n",
       "occu_perc       float64\n",
       "ticket_price    float64\n",
       "ticket_use        int64\n",
       "capacity        float64\n",
       "date             object\n",
       "month             int64\n",
       "quarter           int64\n",
       "day               int64\n",
       "dtype: object"
      ]
     },
     "execution_count": 4,
     "metadata": {},
     "output_type": "execute_result"
    }
   ],
   "source": [
    "df.dtypes"
   ]
  },
  {
   "cell_type": "code",
   "execution_count": 5,
   "id": "7069a361",
   "metadata": {
    "execution": {
     "iopub.execute_input": "2022-08-16T02:08:14.708004Z",
     "iopub.status.busy": "2022-08-16T02:08:14.707074Z",
     "iopub.status.idle": "2022-08-16T02:08:14.739694Z",
     "shell.execute_reply": "2022-08-16T02:08:14.738592Z"
    },
    "id": "-Lv8560FteHV",
    "papermill": {
     "duration": 0.04572,
     "end_time": "2022-08-16T02:08:14.742436",
     "exception": false,
     "start_time": "2022-08-16T02:08:14.696716",
     "status": "completed"
    },
    "tags": []
   },
   "outputs": [],
   "source": [
    "df['date'] = pd.to_datetime(df['date'])"
   ]
  },
  {
   "cell_type": "code",
   "execution_count": 6,
   "id": "216dc040",
   "metadata": {
    "execution": {
     "iopub.execute_input": "2022-08-16T02:08:14.763975Z",
     "iopub.status.busy": "2022-08-16T02:08:14.762751Z",
     "iopub.status.idle": "2022-08-16T02:08:14.771897Z",
     "shell.execute_reply": "2022-08-16T02:08:14.770820Z"
    },
    "id": "7C_07vzsti-W",
    "outputId": "39fd204a-1931-42e1-9315-488fb4a5a8dd",
    "papermill": {
     "duration": 0.022613,
     "end_time": "2022-08-16T02:08:14.774639",
     "exception": false,
     "start_time": "2022-08-16T02:08:14.752026",
     "status": "completed"
    },
    "tags": []
   },
   "outputs": [
    {
     "data": {
      "text/plain": [
       "film_code                int64\n",
       "cinema_code              int64\n",
       "total_sales              int64\n",
       "tickets_sold             int64\n",
       "tickets_out              int64\n",
       "show_time                int64\n",
       "occu_perc              float64\n",
       "ticket_price           float64\n",
       "ticket_use               int64\n",
       "capacity               float64\n",
       "date            datetime64[ns]\n",
       "month                    int64\n",
       "quarter                  int64\n",
       "day                      int64\n",
       "dtype: object"
      ]
     },
     "execution_count": 6,
     "metadata": {},
     "output_type": "execute_result"
    }
   ],
   "source": [
    "df.dtypes"
   ]
  },
  {
   "cell_type": "code",
   "execution_count": 7,
   "id": "13366c7b",
   "metadata": {
    "execution": {
     "iopub.execute_input": "2022-08-16T02:08:14.795648Z",
     "iopub.status.busy": "2022-08-16T02:08:14.795185Z",
     "iopub.status.idle": "2022-08-16T02:08:14.806748Z",
     "shell.execute_reply": "2022-08-16T02:08:14.805592Z"
    },
    "id": "5Khn1TkJtnDW",
    "outputId": "5f677304-225a-4fe0-9bf7-4052e62554c3",
    "papermill": {
     "duration": 0.024449,
     "end_time": "2022-08-16T02:08:14.808989",
     "exception": false,
     "start_time": "2022-08-16T02:08:14.784540",
     "status": "completed"
    },
    "tags": []
   },
   "outputs": [
    {
     "data": {
      "text/plain": [
       "2018-05-15    790\n",
       "2018-05-08    784\n",
       "2018-05-11    778\n",
       "2018-05-10    774\n",
       "2018-05-09    766\n",
       "             ... \n",
       "2018-06-05      4\n",
       "2018-10-30      2\n",
       "2018-02-23      1\n",
       "2018-02-21      1\n",
       "2018-09-21      1\n",
       "Name: date, Length: 234, dtype: int64"
      ]
     },
     "execution_count": 7,
     "metadata": {},
     "output_type": "execute_result"
    }
   ],
   "source": [
    "df['date'].value_counts()"
   ]
  },
  {
   "cell_type": "code",
   "execution_count": 8,
   "id": "0f1f6e06",
   "metadata": {
    "execution": {
     "iopub.execute_input": "2022-08-16T02:08:14.831125Z",
     "iopub.status.busy": "2022-08-16T02:08:14.830077Z",
     "iopub.status.idle": "2022-08-16T02:08:14.864723Z",
     "shell.execute_reply": "2022-08-16T02:08:14.863203Z"
    },
    "id": "BLVJen1ntrSj",
    "papermill": {
     "duration": 0.048207,
     "end_time": "2022-08-16T02:08:14.867631",
     "exception": false,
     "start_time": "2022-08-16T02:08:14.819424",
     "status": "completed"
    },
    "tags": []
   },
   "outputs": [],
   "source": [
    "df['year'] = pd.DatetimeIndex(df['date']).year\n",
    "df['month'] = pd.DatetimeIndex(df['date']).month"
   ]
  },
  {
   "cell_type": "code",
   "execution_count": 9,
   "id": "3af4a5df",
   "metadata": {
    "execution": {
     "iopub.execute_input": "2022-08-16T02:08:14.888431Z",
     "iopub.status.busy": "2022-08-16T02:08:14.887959Z",
     "iopub.status.idle": "2022-08-16T02:08:14.907222Z",
     "shell.execute_reply": "2022-08-16T02:08:14.906042Z"
    },
    "id": "VFWvHLWru0P8",
    "outputId": "316f9255-f472-40d5-e83e-a6ff7ed98eb5",
    "papermill": {
     "duration": 0.032798,
     "end_time": "2022-08-16T02:08:14.909929",
     "exception": false,
     "start_time": "2022-08-16T02:08:14.877131",
     "status": "completed"
    },
    "tags": []
   },
   "outputs": [
    {
     "data": {
      "text/html": [
       "<div>\n",
       "<style scoped>\n",
       "    .dataframe tbody tr th:only-of-type {\n",
       "        vertical-align: middle;\n",
       "    }\n",
       "\n",
       "    .dataframe tbody tr th {\n",
       "        vertical-align: top;\n",
       "    }\n",
       "\n",
       "    .dataframe thead th {\n",
       "        text-align: right;\n",
       "    }\n",
       "</style>\n",
       "<table border=\"1\" class=\"dataframe\">\n",
       "  <thead>\n",
       "    <tr style=\"text-align: right;\">\n",
       "      <th></th>\n",
       "      <th>film_code</th>\n",
       "      <th>cinema_code</th>\n",
       "      <th>total_sales</th>\n",
       "      <th>tickets_sold</th>\n",
       "      <th>tickets_out</th>\n",
       "      <th>show_time</th>\n",
       "      <th>occu_perc</th>\n",
       "      <th>ticket_price</th>\n",
       "      <th>ticket_use</th>\n",
       "      <th>capacity</th>\n",
       "      <th>date</th>\n",
       "      <th>month</th>\n",
       "      <th>quarter</th>\n",
       "      <th>day</th>\n",
       "      <th>year</th>\n",
       "    </tr>\n",
       "  </thead>\n",
       "  <tbody>\n",
       "    <tr>\n",
       "      <th>0</th>\n",
       "      <td>1492</td>\n",
       "      <td>304</td>\n",
       "      <td>3900000</td>\n",
       "      <td>26</td>\n",
       "      <td>0</td>\n",
       "      <td>4</td>\n",
       "      <td>4.26</td>\n",
       "      <td>150000.0</td>\n",
       "      <td>26</td>\n",
       "      <td>610.328638</td>\n",
       "      <td>2018-05-05</td>\n",
       "      <td>5</td>\n",
       "      <td>2</td>\n",
       "      <td>5</td>\n",
       "      <td>2018</td>\n",
       "    </tr>\n",
       "    <tr>\n",
       "      <th>1</th>\n",
       "      <td>1492</td>\n",
       "      <td>352</td>\n",
       "      <td>3360000</td>\n",
       "      <td>42</td>\n",
       "      <td>0</td>\n",
       "      <td>5</td>\n",
       "      <td>8.08</td>\n",
       "      <td>80000.0</td>\n",
       "      <td>42</td>\n",
       "      <td>519.801980</td>\n",
       "      <td>2018-05-05</td>\n",
       "      <td>5</td>\n",
       "      <td>2</td>\n",
       "      <td>5</td>\n",
       "      <td>2018</td>\n",
       "    </tr>\n",
       "    <tr>\n",
       "      <th>2</th>\n",
       "      <td>1492</td>\n",
       "      <td>489</td>\n",
       "      <td>2560000</td>\n",
       "      <td>32</td>\n",
       "      <td>0</td>\n",
       "      <td>4</td>\n",
       "      <td>20.00</td>\n",
       "      <td>80000.0</td>\n",
       "      <td>32</td>\n",
       "      <td>160.000000</td>\n",
       "      <td>2018-05-05</td>\n",
       "      <td>5</td>\n",
       "      <td>2</td>\n",
       "      <td>5</td>\n",
       "      <td>2018</td>\n",
       "    </tr>\n",
       "    <tr>\n",
       "      <th>3</th>\n",
       "      <td>1492</td>\n",
       "      <td>429</td>\n",
       "      <td>1200000</td>\n",
       "      <td>12</td>\n",
       "      <td>0</td>\n",
       "      <td>1</td>\n",
       "      <td>11.01</td>\n",
       "      <td>100000.0</td>\n",
       "      <td>12</td>\n",
       "      <td>108.991826</td>\n",
       "      <td>2018-05-05</td>\n",
       "      <td>5</td>\n",
       "      <td>2</td>\n",
       "      <td>5</td>\n",
       "      <td>2018</td>\n",
       "    </tr>\n",
       "    <tr>\n",
       "      <th>4</th>\n",
       "      <td>1492</td>\n",
       "      <td>524</td>\n",
       "      <td>1200000</td>\n",
       "      <td>15</td>\n",
       "      <td>0</td>\n",
       "      <td>3</td>\n",
       "      <td>16.67</td>\n",
       "      <td>80000.0</td>\n",
       "      <td>15</td>\n",
       "      <td>89.982004</td>\n",
       "      <td>2018-05-05</td>\n",
       "      <td>5</td>\n",
       "      <td>2</td>\n",
       "      <td>5</td>\n",
       "      <td>2018</td>\n",
       "    </tr>\n",
       "  </tbody>\n",
       "</table>\n",
       "</div>"
      ],
      "text/plain": [
       "   film_code  cinema_code  total_sales  tickets_sold  tickets_out  show_time  \\\n",
       "0       1492          304      3900000            26            0          4   \n",
       "1       1492          352      3360000            42            0          5   \n",
       "2       1492          489      2560000            32            0          4   \n",
       "3       1492          429      1200000            12            0          1   \n",
       "4       1492          524      1200000            15            0          3   \n",
       "\n",
       "   occu_perc  ticket_price  ticket_use    capacity       date  month  quarter  \\\n",
       "0       4.26      150000.0          26  610.328638 2018-05-05      5        2   \n",
       "1       8.08       80000.0          42  519.801980 2018-05-05      5        2   \n",
       "2      20.00       80000.0          32  160.000000 2018-05-05      5        2   \n",
       "3      11.01      100000.0          12  108.991826 2018-05-05      5        2   \n",
       "4      16.67       80000.0          15   89.982004 2018-05-05      5        2   \n",
       "\n",
       "   day  year  \n",
       "0    5  2018  \n",
       "1    5  2018  \n",
       "2    5  2018  \n",
       "3    5  2018  \n",
       "4    5  2018  "
      ]
     },
     "execution_count": 9,
     "metadata": {},
     "output_type": "execute_result"
    }
   ],
   "source": [
    "df.head()"
   ]
  },
  {
   "cell_type": "code",
   "execution_count": 10,
   "id": "c7e925b9",
   "metadata": {
    "execution": {
     "iopub.execute_input": "2022-08-16T02:08:14.931772Z",
     "iopub.status.busy": "2022-08-16T02:08:14.930950Z",
     "iopub.status.idle": "2022-08-16T02:08:14.943973Z",
     "shell.execute_reply": "2022-08-16T02:08:14.942964Z"
    },
    "id": "pTU-TSzLu7RW",
    "outputId": "0ea076e1-84d1-497f-8dab-397ca279ac66",
    "papermill": {
     "duration": 0.02689,
     "end_time": "2022-08-16T02:08:14.946509",
     "exception": false,
     "start_time": "2022-08-16T02:08:14.919619",
     "status": "completed"
    },
    "tags": []
   },
   "outputs": [
    {
     "data": {
      "text/plain": [
       "film_code         0\n",
       "cinema_code       0\n",
       "total_sales       0\n",
       "tickets_sold      0\n",
       "tickets_out       0\n",
       "show_time         0\n",
       "occu_perc       125\n",
       "ticket_price      0\n",
       "ticket_use        0\n",
       "capacity        125\n",
       "date              0\n",
       "month             0\n",
       "quarter           0\n",
       "day               0\n",
       "year              0\n",
       "dtype: int64"
      ]
     },
     "execution_count": 10,
     "metadata": {},
     "output_type": "execute_result"
    }
   ],
   "source": [
    "df.isnull().sum()"
   ]
  },
  {
   "cell_type": "code",
   "execution_count": 11,
   "id": "89e8d3dd",
   "metadata": {
    "execution": {
     "iopub.execute_input": "2022-08-16T02:08:14.969069Z",
     "iopub.status.busy": "2022-08-16T02:08:14.968263Z",
     "iopub.status.idle": "2022-08-16T02:08:15.012770Z",
     "shell.execute_reply": "2022-08-16T02:08:15.011488Z"
    },
    "id": "BjQU9yVCvDIt",
    "outputId": "75fb65aa-322e-4977-da8a-ce8bf033bd44",
    "papermill": {
     "duration": 0.059316,
     "end_time": "2022-08-16T02:08:15.015885",
     "exception": false,
     "start_time": "2022-08-16T02:08:14.956569",
     "status": "completed"
    },
    "tags": []
   },
   "outputs": [
    {
     "data": {
      "text/plain": [
       "film_code       0\n",
       "cinema_code     0\n",
       "total_sales     0\n",
       "tickets_sold    0\n",
       "tickets_out     0\n",
       "show_time       0\n",
       "occu_perc       0\n",
       "ticket_price    0\n",
       "ticket_use      0\n",
       "capacity        0\n",
       "date            0\n",
       "month           0\n",
       "quarter         0\n",
       "day             0\n",
       "year            0\n",
       "dtype: int64"
      ]
     },
     "execution_count": 11,
     "metadata": {},
     "output_type": "execute_result"
    }
   ],
   "source": [
    "df.dropna(axis=0, inplace=True)\n",
    "df.isnull().sum()"
   ]
  },
  {
   "cell_type": "code",
   "execution_count": 12,
   "id": "869db9c2",
   "metadata": {
    "execution": {
     "iopub.execute_input": "2022-08-16T02:08:15.039241Z",
     "iopub.status.busy": "2022-08-16T02:08:15.038406Z",
     "iopub.status.idle": "2022-08-16T02:08:15.045686Z",
     "shell.execute_reply": "2022-08-16T02:08:15.044370Z"
    },
    "id": "2vuWTBvCvLGp",
    "outputId": "d83f9868-74ea-4a00-bc5d-49eb53ee26ef",
    "papermill": {
     "duration": 0.022233,
     "end_time": "2022-08-16T02:08:15.048178",
     "exception": false,
     "start_time": "2022-08-16T02:08:15.025945",
     "status": "completed"
    },
    "tags": []
   },
   "outputs": [
    {
     "data": {
      "text/plain": [
       "(142399, 15)"
      ]
     },
     "execution_count": 12,
     "metadata": {},
     "output_type": "execute_result"
    }
   ],
   "source": [
    "df.shape"
   ]
  },
  {
   "cell_type": "code",
   "execution_count": 13,
   "id": "7933ed9b",
   "metadata": {
    "execution": {
     "iopub.execute_input": "2022-08-16T02:08:15.071293Z",
     "iopub.status.busy": "2022-08-16T02:08:15.070142Z",
     "iopub.status.idle": "2022-08-16T02:08:15.590225Z",
     "shell.execute_reply": "2022-08-16T02:08:15.589080Z"
    },
    "id": "p0PbqvKIvOQk",
    "outputId": "10f14500-5f71-427e-9569-79b1cebbc468",
    "papermill": {
     "duration": 0.534539,
     "end_time": "2022-08-16T02:08:15.592918",
     "exception": false,
     "start_time": "2022-08-16T02:08:15.058379",
     "status": "completed"
    },
    "tags": []
   },
   "outputs": [
    {
     "data": {
      "image/png": "[encoded data removed]",
      "text/plain": [
       "<Figure size 432x288 with 2 Axes>"
      ]
     },
     "metadata": {
      "needs_background": "light"
     },
     "output_type": "display_data"
    }
   ],
   "source": [
    "sns.heatmap(df.corr())\n",
    "plt.show()"
   ]
  },
  {
   "cell_type": "code",
   "execution_count": 14,
   "id": "571e2ac6",
   "metadata": {
    "execution": {
     "iopub.execute_input": "2022-08-16T02:08:15.616450Z",
     "iopub.status.busy": "2022-08-16T02:08:15.615695Z",
     "iopub.status.idle": "2022-08-16T02:08:17.590257Z",
     "shell.execute_reply": "2022-08-16T02:08:17.589010Z"
    },
    "id": "xs5rmHDevtzN",
    "outputId": "4bd474e7-c777-467d-cb20-dde0a7e58f54",
    "papermill": {
     "duration": 1.989607,
     "end_time": "2022-08-16T02:08:17.593336",
     "exception": false,
     "start_time": "2022-08-16T02:08:15.603729",
     "status": "completed"
    },
    "tags": []
   },
   "outputs": [
    {
     "data": {
      "image/png": "[encoded data removed]",
      "text/plain": [
       "<Figure size 432x288 with 1 Axes>"
      ]
     },
     "metadata": {
      "needs_background": "light"
     },
     "output_type": "display_data"
    }
   ],
   "source": [
    "sns.lineplot(x=df['month'],y=df['total_sales'])\n",
    "\n",
    "plt.title(\"Sales of Ticket Movie\")\n",
    "plt.xlabel(\"Month\")\n",
    "plt.ylabel(\"Total of Sale\")\n",
    "\n",
    "plt.show()"
   ]
  },
  {
   "cell_type": "code",
   "execution_count": 15,
   "id": "2577831f",
   "metadata": {
    "execution": {
     "iopub.execute_input": "2022-08-16T02:08:17.618060Z",
     "iopub.status.busy": "2022-08-16T02:08:17.617291Z",
     "iopub.status.idle": "2022-08-16T02:08:17.628689Z",
     "shell.execute_reply": "2022-08-16T02:08:17.627256Z"
    },
    "id": "bmIhd2eBwclX",
    "outputId": "992fbc47-04aa-4f3d-a7f4-7edd738ca31b",
    "papermill": {
     "duration": 0.026371,
     "end_time": "2022-08-16T02:08:17.631408",
     "exception": false,
     "start_time": "2022-08-16T02:08:17.605037",
     "status": "completed"
    },
    "tags": []
   },
   "outputs": [
    {
     "data": {
      "text/plain": [
       "1554    11613\n",
       "1493    10490\n",
       "1481     9525\n",
       "1484     8623\n",
       "1482     7394\n",
       "1556     6979\n",
       "1483     6970\n",
       "1485     6073\n",
       "1494     6022\n",
       "1498     5544\n",
       "1499     5187\n",
       "1576     4431\n",
       "1497     3911\n",
       "1559     3649\n",
       "1572     3581\n",
       "1558     3548\n",
       "1511     3250\n",
       "1495     2958\n",
       "1553     2850\n",
       "1573     2444\n",
       "1552     2444\n",
       "1486     2294\n",
       "1551     2268\n",
       "1562     2144\n",
       "1578     1847\n",
       "1575     1589\n",
       "1496     1443\n",
       "1480     1386\n",
       "1563     1301\n",
       "1492     1086\n",
       "1564     1044\n",
       "1569      987\n",
       "1560      931\n",
       "1550      678\n",
       "1568      663\n",
       "1500      633\n",
       "1502      601\n",
       "1512      565\n",
       "1566      558\n",
       "1571      552\n",
       "1471      466\n",
       "1557      418\n",
       "1587      414\n",
       "1570      341\n",
       "1565      313\n",
       "1567      285\n",
       "1589       67\n",
       "1584       39\n",
       "Name: film_code, dtype: int64"
      ]
     },
     "execution_count": 15,
     "metadata": {},
     "output_type": "execute_result"
    }
   ],
   "source": [
    "df['film_code'].value_counts()"
   ]
  },
  {
   "cell_type": "code",
   "execution_count": 16,
   "id": "76a22a32",
   "metadata": {
    "execution": {
     "iopub.execute_input": "2022-08-16T02:08:17.656651Z",
     "iopub.status.busy": "2022-08-16T02:08:17.655315Z",
     "iopub.status.idle": "2022-08-16T02:08:21.064289Z",
     "shell.execute_reply": "2022-08-16T02:08:21.063035Z"
    },
    "id": "BjD4mpAewnfE",
    "outputId": "81bdc930-e36c-4e32-ff9a-6104607c44cf",
    "papermill": {
     "duration": 3.424147,
     "end_time": "2022-08-16T02:08:21.067129",
     "exception": false,
     "start_time": "2022-08-16T02:08:17.642982",
     "status": "completed"
    },
    "tags": []
   },
   "outputs": [
    {
     "data": {
      "image/png": "[encoded data removed]",
      "text/plain": [
       "<Figure size 432x288 with 1 Axes>"
      ]
     },
     "metadata": {
      "needs_background": "light"
     },
     "output_type": "display_data"
    }
   ],
   "source": [
    "sns.barplot(x=df['film_code'],y=df['total_sales'])\n",
    "\n",
    "plt.show()"
   ]
  },
  {
   "cell_type": "code",
   "execution_count": 17,
   "id": "9351b8b1",
   "metadata": {
    "execution": {
     "iopub.execute_input": "2022-08-16T02:08:21.092563Z",
     "iopub.status.busy": "2022-08-16T02:08:21.092088Z",
     "iopub.status.idle": "2022-08-16T02:08:21.102702Z",
     "shell.execute_reply": "2022-08-16T02:08:21.101412Z"
    },
    "id": "s-Y6EmfDwy9n",
    "outputId": "815d3c4f-2a66-43b4-c27a-80c6ba7e4870",
    "papermill": {
     "duration": 0.026058,
     "end_time": "2022-08-16T02:08:21.105078",
     "exception": false,
     "start_time": "2022-08-16T02:08:21.079020",
     "status": "completed"
    },
    "tags": []
   },
   "outputs": [
    {
     "data": {
      "text/plain": [
       "2    58229\n",
       "3    54029\n",
       "4    22172\n",
       "1     7969\n",
       "Name: quarter, dtype: int64"
      ]
     },
     "execution_count": 17,
     "metadata": {},
     "output_type": "execute_result"
    }
   ],
   "source": [
    "df['quarter'].value_counts()"
   ]
  },
  {
   "cell_type": "code",
   "execution_count": 18,
   "id": "14b6ea79",
   "metadata": {
    "execution": {
     "iopub.execute_input": "2022-08-16T02:08:21.130235Z",
     "iopub.status.busy": "2022-08-16T02:08:21.129522Z",
     "iopub.status.idle": "2022-08-16T02:08:23.064139Z",
     "shell.execute_reply": "2022-08-16T02:08:23.062867Z"
    },
    "id": "hl_srGnzxGlt",
    "outputId": "38e5a228-2e2d-4a95-b305-daedcc39ed35",
    "papermill": {
     "duration": 1.950172,
     "end_time": "2022-08-16T02:08:23.066879",
     "exception": false,
     "start_time": "2022-08-16T02:08:21.116707",
     "status": "completed"
    },
    "tags": []
   },
   "outputs": [
    {
     "data": {
      "image/png": "[encoded data removed]",
      "text/plain": [
       "<Figure size 432x288 with 1 Axes>"
      ]
     },
     "metadata": {
      "needs_background": "light"
     },
     "output_type": "display_data"
    }
   ],
   "source": [
    "sns.lineplot(data=df, x=\"quarter\", y=\"tickets_sold\",color=\"b\")\n",
    "\n",
    "plt.title(\"Tickets Sold by Quarter\")\n",
    "plt.xlabel(\"Years\")\n",
    "plt.ylabel(\"Passengers\")\n",
    "plt.show()"
   ]
  },
  {
   "cell_type": "code",
   "execution_count": 19,
   "id": "c05597bd",
   "metadata": {
    "execution": {
     "iopub.execute_input": "2022-08-16T02:08:23.092362Z",
     "iopub.status.busy": "2022-08-16T02:08:23.091914Z",
     "iopub.status.idle": "2022-08-16T02:08:24.958921Z",
     "shell.execute_reply": "2022-08-16T02:08:24.957662Z"
    },
    "id": "haW7q2nuyBBO",
    "outputId": "b6f79e3c-662b-4c51-c309-6900ac16c4cf",
    "papermill": {
     "duration": 1.882698,
     "end_time": "2022-08-16T02:08:24.961418",
     "exception": false,
     "start_time": "2022-08-16T02:08:23.078720",
     "status": "completed"
    },
    "tags": []
   },
   "outputs": [
    {
     "data": {
      "image/png": "[encoded data removed]",
      "text/plain": [
       "<Figure size 360x360 with 1 Axes>"
      ]
     },
     "metadata": {
      "needs_background": "light"
     },
     "output_type": "display_data"
    }
   ],
   "source": [
    "sns.catplot(x=\"quarter\", y=\"total_sales\", data=df,jitter=False)\n",
    "\n",
    "plt.title(\"Total Sales by Quarter\")\n",
    "\n",
    "plt.show()"
   ]
  },
  {
   "cell_type": "code",
   "execution_count": 20,
   "id": "b93d13b1",
   "metadata": {
    "execution": {
     "iopub.execute_input": "2022-08-16T02:08:24.988317Z",
     "iopub.status.busy": "2022-08-16T02:08:24.987152Z",
     "iopub.status.idle": "2022-08-16T02:08:25.235645Z",
     "shell.execute_reply": "2022-08-16T02:08:25.234360Z"
    },
    "id": "6DpnAfE3ySrY",
    "outputId": "982061c1-07a0-480d-9fdc-f6ed1a526ee0",
    "papermill": {
     "duration": 0.264648,
     "end_time": "2022-08-16T02:08:25.238313",
     "exception": false,
     "start_time": "2022-08-16T02:08:24.973665",
     "status": "completed"
    },
    "tags": []
   },
   "outputs": [
    {
     "data": {
      "image/png": "[encoded data removed]",
      "text/plain": [
       "<Figure size 432x288 with 1 Axes>"
      ]
     },
     "metadata": {
      "needs_background": "light"
     },
     "output_type": "display_data"
    }
   ],
   "source": [
    "sns.boxplot( x=df[\"quarter\"], y=df[\"tickets_sold\"],width=0.5)\n",
    "\n",
    "plt.title(\"Boxplot of Ticket Sold\")\n",
    "plt.ylabel(\"Ticket Sold\")\n",
    "plt.xlabel(\"Quarter\")\n",
    "\n",
    "plt.show()"
   ]
  },
  {
   "cell_type": "code",
   "execution_count": 21,
   "id": "dff4447f",
   "metadata": {
    "execution": {
     "iopub.execute_input": "2022-08-16T02:08:25.265347Z",
     "iopub.status.busy": "2022-08-16T02:08:25.264878Z",
     "iopub.status.idle": "2022-08-16T02:08:29.077296Z",
     "shell.execute_reply": "2022-08-16T02:08:29.076032Z"
    },
    "id": "SNl4fX-IyxqG",
    "outputId": "adcebed0-67ae-4f34-c2c2-b8e7026d548d",
    "papermill": {
     "duration": 3.829192,
     "end_time": "2022-08-16T02:08:29.080087",
     "exception": false,
     "start_time": "2022-08-16T02:08:25.250895",
     "status": "completed"
    },
    "tags": []
   },
   "outputs": [
    {
     "data": {
      "image/png": "[encoded data removed]",
      "text/plain": [
       "<Figure size 432x288 with 1 Axes>"
      ]
     },
     "metadata": {
      "needs_background": "light"
     },
     "output_type": "display_data"
    }
   ],
   "source": [
    "sns.barplot(x=df['quarter'],y=df['total_sales'])\n",
    "sns.lineplot(x=df['quarter'],y=df['total_sales'])\n",
    "\n",
    "plt.title(\"Total Sales\")\n",
    "plt.xlabel(\"Quarter\")\n",
    "plt.ylabel(\"Total Sales\")\n",
    "plt.show()"
   ]
  },
  {
   "cell_type": "code",
   "execution_count": 22,
   "id": "b259a2e1",
   "metadata": {
    "execution": {
     "iopub.execute_input": "2022-08-16T02:08:29.109061Z",
     "iopub.status.busy": "2022-08-16T02:08:29.108333Z",
     "iopub.status.idle": "2022-08-16T02:08:35.157792Z",
     "shell.execute_reply": "2022-08-16T02:08:35.156300Z"
    },
    "id": "dDQk3g-azIl7",
    "outputId": "7ad01f7b-5aeb-43b5-bb54-1c64b407f792",
    "papermill": {
     "duration": 6.068101,
     "end_time": "2022-08-16T02:08:35.161376",
     "exception": false,
     "start_time": "2022-08-16T02:08:29.093275",
     "status": "completed"
    },
    "tags": []
   },
   "outputs": [
    {
     "data": {
      "image/png": "[encoded data removed]",
      "text/plain": [
       "<Figure size 360x360 with 6 Axes>"
      ]
     },
     "metadata": {
      "needs_background": "light"
     },
     "output_type": "display_data"
    }
   ],
   "source": [
    "sns.pairplot(data=df, vars=[\"tickets_sold\", \"ticket_price\"])\n",
    "\n",
    "plt.show()"
   ]
  },
  {
   "cell_type": "code",
   "execution_count": 23,
   "id": "469151ec",
   "metadata": {
    "execution": {
     "iopub.execute_input": "2022-08-16T02:08:35.192923Z",
     "iopub.status.busy": "2022-08-16T02:08:35.191915Z",
     "iopub.status.idle": "2022-08-16T02:08:35.381367Z",
     "shell.execute_reply": "2022-08-16T02:08:35.379039Z"
    },
    "id": "APnYYUs2zl5j",
    "outputId": "05490085-c3f7-4cc2-a200-fb48b0b448ca",
    "papermill": {
     "duration": 0.209232,
     "end_time": "2022-08-16T02:08:35.385165",
     "exception": false,
     "start_time": "2022-08-16T02:08:35.175933",
     "status": "completed"
    },
    "tags": []
   },
   "outputs": [
    {
     "name": "stderr",
     "output_type": "stream",
     "text": [
      "/opt/conda/lib/python3.7/site-packages/seaborn/_decorators.py:43: FutureWarning: Pass the following variable as a keyword arg: x. From version 0.12, the only valid positional argument will be `data`, and passing other arguments without an explicit keyword will result in an error or misinterpretation.\n",
      "  FutureWarning\n"
     ]
    },
    {
     "data": {
      "image/png": "[encoded data removed]",
      "text/plain": [
       "<Figure size 432x288 with 1 Axes>"
      ]
     },
     "metadata": {
      "needs_background": "light"
     },
     "output_type": "display_data"
    }
   ],
   "source": [
    "sns.boxplot(df['tickets_sold'])\n",
    "\n",
    "plt.title(\"Boxplot of Notes\")\n",
    "\n",
    "plt.show()"
   ]
  },
  {
   "cell_type": "code",
   "execution_count": 24,
   "id": "564c1264",
   "metadata": {
    "execution": {
     "iopub.execute_input": "2022-08-16T02:08:35.415347Z",
     "iopub.status.busy": "2022-08-16T02:08:35.414221Z",
     "iopub.status.idle": "2022-08-16T02:08:35.434017Z",
     "shell.execute_reply": "2022-08-16T02:08:35.432589Z"
    },
    "id": "COdZq0xOzvip",
    "outputId": "82d5db05-2cb0-4adf-9fd0-0d74e09bc899",
    "papermill": {
     "duration": 0.037568,
     "end_time": "2022-08-16T02:08:35.436704",
     "exception": false,
     "start_time": "2022-08-16T02:08:35.399136",
     "status": "completed"
    },
    "tags": []
   },
   "outputs": [
    {
     "data": {
      "text/html": [
       "<div>\n",
       "<style scoped>\n",
       "    .dataframe tbody tr th:only-of-type {\n",
       "        vertical-align: middle;\n",
       "    }\n",
       "\n",
       "    .dataframe tbody tr th {\n",
       "        vertical-align: top;\n",
       "    }\n",
       "\n",
       "    .dataframe thead th {\n",
       "        text-align: right;\n",
       "    }\n",
       "</style>\n",
       "<table border=\"1\" class=\"dataframe\">\n",
       "  <thead>\n",
       "    <tr style=\"text-align: right;\">\n",
       "      <th></th>\n",
       "      <th>film_code</th>\n",
       "      <th>cinema_code</th>\n",
       "      <th>total_sales</th>\n",
       "      <th>tickets_sold</th>\n",
       "      <th>tickets_out</th>\n",
       "      <th>show_time</th>\n",
       "      <th>occu_perc</th>\n",
       "      <th>ticket_price</th>\n",
       "      <th>ticket_use</th>\n",
       "      <th>capacity</th>\n",
       "      <th>date</th>\n",
       "      <th>month</th>\n",
       "      <th>quarter</th>\n",
       "      <th>day</th>\n",
       "      <th>year</th>\n",
       "    </tr>\n",
       "  </thead>\n",
       "  <tbody>\n",
       "    <tr>\n",
       "      <th>0</th>\n",
       "      <td>1492</td>\n",
       "      <td>304</td>\n",
       "      <td>3900000</td>\n",
       "      <td>26</td>\n",
       "      <td>0</td>\n",
       "      <td>4</td>\n",
       "      <td>4.26</td>\n",
       "      <td>150000.0</td>\n",
       "      <td>26</td>\n",
       "      <td>610.328638</td>\n",
       "      <td>2018-05-05</td>\n",
       "      <td>5</td>\n",
       "      <td>2</td>\n",
       "      <td>5</td>\n",
       "      <td>2018</td>\n",
       "    </tr>\n",
       "    <tr>\n",
       "      <th>1</th>\n",
       "      <td>1492</td>\n",
       "      <td>352</td>\n",
       "      <td>3360000</td>\n",
       "      <td>42</td>\n",
       "      <td>0</td>\n",
       "      <td>5</td>\n",
       "      <td>8.08</td>\n",
       "      <td>80000.0</td>\n",
       "      <td>42</td>\n",
       "      <td>519.801980</td>\n",
       "      <td>2018-05-05</td>\n",
       "      <td>5</td>\n",
       "      <td>2</td>\n",
       "      <td>5</td>\n",
       "      <td>2018</td>\n",
       "    </tr>\n",
       "    <tr>\n",
       "      <th>2</th>\n",
       "      <td>1492</td>\n",
       "      <td>489</td>\n",
       "      <td>2560000</td>\n",
       "      <td>32</td>\n",
       "      <td>0</td>\n",
       "      <td>4</td>\n",
       "      <td>20.00</td>\n",
       "      <td>80000.0</td>\n",
       "      <td>32</td>\n",
       "      <td>160.000000</td>\n",
       "      <td>2018-05-05</td>\n",
       "      <td>5</td>\n",
       "      <td>2</td>\n",
       "      <td>5</td>\n",
       "      <td>2018</td>\n",
       "    </tr>\n",
       "    <tr>\n",
       "      <th>3</th>\n",
       "      <td>1492</td>\n",
       "      <td>429</td>\n",
       "      <td>1200000</td>\n",
       "      <td>12</td>\n",
       "      <td>0</td>\n",
       "      <td>1</td>\n",
       "      <td>11.01</td>\n",
       "      <td>100000.0</td>\n",
       "      <td>12</td>\n",
       "      <td>108.991826</td>\n",
       "      <td>2018-05-05</td>\n",
       "      <td>5</td>\n",
       "      <td>2</td>\n",
       "      <td>5</td>\n",
       "      <td>2018</td>\n",
       "    </tr>\n",
       "    <tr>\n",
       "      <th>4</th>\n",
       "      <td>1492</td>\n",
       "      <td>524</td>\n",
       "      <td>1200000</td>\n",
       "      <td>15</td>\n",
       "      <td>0</td>\n",
       "      <td>3</td>\n",
       "      <td>16.67</td>\n",
       "      <td>80000.0</td>\n",
       "      <td>15</td>\n",
       "      <td>89.982004</td>\n",
       "      <td>2018-05-05</td>\n",
       "      <td>5</td>\n",
       "      <td>2</td>\n",
       "      <td>5</td>\n",
       "      <td>2018</td>\n",
       "    </tr>\n",
       "  </tbody>\n",
       "</table>\n",
       "</div>"
      ],
      "text/plain": [
       "   film_code  cinema_code  total_sales  tickets_sold  tickets_out  show_time  \\\n",
       "0       1492          304      3900000            26            0          4   \n",
       "1       1492          352      3360000            42            0          5   \n",
       "2       1492          489      2560000            32            0          4   \n",
       "3       1492          429      1200000            12            0          1   \n",
       "4       1492          524      1200000            15            0          3   \n",
       "\n",
       "   occu_perc  ticket_price  ticket_use    capacity       date  month  quarter  \\\n",
       "0       4.26      150000.0          26  610.328638 2018-05-05      5        2   \n",
       "1       8.08       80000.0          42  519.801980 2018-05-05      5        2   \n",
       "2      20.00       80000.0          32  160.000000 2018-05-05      5        2   \n",
       "3      11.01      100000.0          12  108.991826 2018-05-05      5        2   \n",
       "4      16.67       80000.0          15   89.982004 2018-05-05      5        2   \n",
       "\n",
       "   day  year  \n",
       "0    5  2018  \n",
       "1    5  2018  \n",
       "2    5  2018  \n",
       "3    5  2018  \n",
       "4    5  2018  "
      ]
     },
     "execution_count": 24,
     "metadata": {},
     "output_type": "execute_result"
    }
   ],
   "source": [
    "df.head()"
   ]
  },
  {
   "cell_type": "code",
   "execution_count": 25,
   "id": "15239f3f",
   "metadata": {
    "execution": {
     "iopub.execute_input": "2022-08-16T02:08:35.466210Z",
     "iopub.status.busy": "2022-08-16T02:08:35.465731Z",
     "iopub.status.idle": "2022-08-16T02:08:35.473990Z",
     "shell.execute_reply": "2022-08-16T02:08:35.472618Z"
    },
    "id": "3cnDtHRl0iG1",
    "papermill": {
     "duration": 0.026078,
     "end_time": "2022-08-16T02:08:35.476605",
     "exception": false,
     "start_time": "2022-08-16T02:08:35.450527",
     "status": "completed"
    },
    "tags": []
   },
   "outputs": [],
   "source": [
    "X = df[['ticket_price', 'occu_perc', 'show_time', 'tickets_sold']]\n",
    "y = df['total_sales']"
   ]
  },
  {
   "cell_type": "code",
   "execution_count": 26,
   "id": "4b512177",
   "metadata": {
    "execution": {
     "iopub.execute_input": "2022-08-16T02:08:35.506754Z",
     "iopub.status.busy": "2022-08-16T02:08:35.505951Z",
     "iopub.status.idle": "2022-08-16T02:08:37.408586Z",
     "shell.execute_reply": "2022-08-16T02:08:37.406657Z"
    },
    "id": "LgmqM202z6bt",
    "outputId": "23ccd15d-02dc-4444-baa7-cfb95306475a",
    "papermill": {
     "duration": 1.920852,
     "end_time": "2022-08-16T02:08:37.411379",
     "exception": false,
     "start_time": "2022-08-16T02:08:35.490527",
     "status": "completed"
    },
    "tags": []
   },
   "outputs": [
    {
     "data": {
      "image/png": "[encoded data removed]",
      "text/plain": [
       "<Figure size 432x288 with 1 Axes>"
      ]
     },
     "metadata": {
      "needs_background": "light"
     },
     "output_type": "display_data"
    }
   ],
   "source": [
    "sns.barplot(x=df['quarter'],y=df['capacity'])\n",
    "\n",
    "plt.show()"
   ]
  },
  {
   "cell_type": "code",
   "execution_count": 27,
   "id": "aa77459e",
   "metadata": {
    "execution": {
     "iopub.execute_input": "2022-08-16T02:08:37.443367Z",
     "iopub.status.busy": "2022-08-16T02:08:37.442545Z",
     "iopub.status.idle": "2022-08-16T02:08:37.687853Z",
     "shell.execute_reply": "2022-08-16T02:08:37.686294Z"
    },
    "id": "FU_wrYLM0-iv",
    "papermill": {
     "duration": 0.265159,
     "end_time": "2022-08-16T02:08:37.690865",
     "exception": false,
     "start_time": "2022-08-16T02:08:37.425706",
     "status": "completed"
    },
    "tags": []
   },
   "outputs": [],
   "source": [
    "from sklearn.model_selection import train_test_split\n",
    "X_train,X_test,y_train,y_test = train_test_split(X,y,train_size=0.7,random_state=100)"
   ]
  },
  {
   "cell_type": "code",
   "execution_count": 28,
   "id": "4f795a92",
   "metadata": {
    "execution": {
     "iopub.execute_input": "2022-08-16T02:08:37.720932Z",
     "iopub.status.busy": "2022-08-16T02:08:37.720381Z",
     "iopub.status.idle": "2022-08-16T02:08:37.843167Z",
     "shell.execute_reply": "2022-08-16T02:08:37.841588Z"
    },
    "id": "TADfzGsk1BQm",
    "outputId": "31d4db88-69d1-41c6-e9a6-7eec92705e11",
    "papermill": {
     "duration": 0.14099,
     "end_time": "2022-08-16T02:08:37.845964",
     "exception": false,
     "start_time": "2022-08-16T02:08:37.704974",
     "status": "completed"
    },
    "tags": []
   },
   "outputs": [
    {
     "data": {
      "text/plain": [
       "LinearRegression()"
      ]
     },
     "execution_count": 28,
     "metadata": {},
     "output_type": "execute_result"
    }
   ],
   "source": [
    "from sklearn.linear_model import LinearRegression\n",
    "\n",
    "lr = LinearRegression()\n",
    "lr.fit(X_train,y_train)"
   ]
  },
  {
   "cell_type": "code",
   "execution_count": 29,
   "id": "5c3fd1a7",
   "metadata": {
    "execution": {
     "iopub.execute_input": "2022-08-16T02:08:37.876592Z",
     "iopub.status.busy": "2022-08-16T02:08:37.875704Z",
     "iopub.status.idle": "2022-08-16T02:08:37.890348Z",
     "shell.execute_reply": "2022-08-16T02:08:37.888902Z"
    },
    "id": "Lj8zCoGm1E0l",
    "papermill": {
     "duration": 0.034429,
     "end_time": "2022-08-16T02:08:37.894543",
     "exception": false,
     "start_time": "2022-08-16T02:08:37.860114",
     "status": "completed"
    },
    "tags": []
   },
   "outputs": [],
   "source": [
    "y_pred = lr.predict(X_test)"
   ]
  },
  {
   "cell_type": "code",
   "execution_count": 30,
   "id": "1b23a410",
   "metadata": {
    "execution": {
     "iopub.execute_input": "2022-08-16T02:08:37.942721Z",
     "iopub.status.busy": "2022-08-16T02:08:37.942085Z",
     "iopub.status.idle": "2022-08-16T02:08:38.423442Z",
     "shell.execute_reply": "2022-08-16T02:08:38.421835Z"
    },
    "id": "vaMhD-eg1G2r",
    "outputId": "41d64573-8ede-407f-e40e-4bbbb7af13be",
    "papermill": {
     "duration": 0.50902,
     "end_time": "2022-08-16T02:08:38.426571",
     "exception": false,
     "start_time": "2022-08-16T02:08:37.917551",
     "status": "completed"
    },
    "tags": []
   },
   "outputs": [
    {
     "data": {
      "image/png": "[encoded data removed]",
      "text/plain": [
       "<Figure size 432x288 with 1 Axes>"
      ]
     },
     "metadata": {
      "needs_background": "light"
     },
     "output_type": "display_data"
    }
   ],
   "source": [
    "c = [i for i in range (1,len(y_test)+1,1)]\n",
    "plt.plot(c,y_test,color='g',linestyle='-')\n",
    "plt.plot(c,y_pred,color='b',linestyle='-')\n",
    "plt.xlabel('Fiture')\n",
    "plt.ylabel('Price')\n",
    "plt.title('Prediction')\n",
    "plt.show()"
   ]
  },
  {
   "cell_type": "code",
   "execution_count": 31,
   "id": "ff04751a",
   "metadata": {
    "execution": {
     "iopub.execute_input": "2022-08-16T02:08:38.457160Z",
     "iopub.status.busy": "2022-08-16T02:08:38.456728Z",
     "iopub.status.idle": "2022-08-16T02:08:38.738462Z",
     "shell.execute_reply": "2022-08-16T02:08:38.737250Z"
    },
    "id": "hIytGKSl1Nnl",
    "outputId": "bac7957e-1cc1-44f0-bc7f-90a40a421a8f",
    "papermill": {
     "duration": 0.30013,
     "end_time": "2022-08-16T02:08:38.741168",
     "exception": false,
     "start_time": "2022-08-16T02:08:38.441038",
     "status": "completed"
    },
    "tags": []
   },
   "outputs": [
    {
     "data": {
      "image/png": "[encoded data removed]",
      "text/plain": [
       "<Figure size 864x432 with 1 Axes>"
      ]
     },
     "metadata": {
      "needs_background": "light"
     },
     "output_type": "display_data"
    }
   ],
   "source": [
    "plt.figure(figsize=(12,6))\n",
    "plt.scatter(y_test,y_pred,color='b',linestyle='-')\n",
    "plt.show()"
   ]
  },
  {
   "cell_type": "code",
   "execution_count": 32,
   "id": "88f440e3",
   "metadata": {
    "execution": {
     "iopub.execute_input": "2022-08-16T02:08:38.773597Z",
     "iopub.status.busy": "2022-08-16T02:08:38.772489Z",
     "iopub.status.idle": "2022-08-16T02:08:38.778135Z",
     "shell.execute_reply": "2022-08-16T02:08:38.776936Z"
    },
    "id": "jX6nTsZF1Uj3",
    "papermill": {
     "duration": 0.024563,
     "end_time": "2022-08-16T02:08:38.780693",
     "exception": false,
     "start_time": "2022-08-16T02:08:38.756130",
     "status": "completed"
    },
    "tags": []
   },
   "outputs": [],
   "source": [
    "from sklearn.metrics import mean_squared_error\n",
    "from sklearn.metrics import r2_score"
   ]
  },
  {
   "cell_type": "code",
   "execution_count": 33,
   "id": "c0c5416b",
   "metadata": {
    "execution": {
     "iopub.execute_input": "2022-08-16T02:08:38.813949Z",
     "iopub.status.busy": "2022-08-16T02:08:38.811734Z",
     "iopub.status.idle": "2022-08-16T02:08:38.822312Z",
     "shell.execute_reply": "2022-08-16T02:08:38.821322Z"
    },
    "id": "XX6lDS-t1WGG",
    "outputId": "e833d38a-16ec-4a90-b801-721fef710a8a",
    "papermill": {
     "duration": 0.029342,
     "end_time": "2022-08-16T02:08:38.824897",
     "exception": false,
     "start_time": "2022-08-16T02:08:38.795555",
     "status": "completed"
    },
    "tags": []
   },
   "outputs": [
    {
     "data": {
      "text/plain": [
       "0.8679348967732425"
      ]
     },
     "execution_count": 33,
     "metadata": {},
     "output_type": "execute_result"
    }
   ],
   "source": [
    "r_squared = r2_score(y_test, y_pred)\n",
    "r_squared"
   ]
  },
  {
   "cell_type": "code",
   "execution_count": 34,
   "id": "3a292d2f",
   "metadata": {
    "execution": {
     "iopub.execute_input": "2022-08-16T02:08:38.856744Z",
     "iopub.status.busy": "2022-08-16T02:08:38.856256Z",
     "iopub.status.idle": "2022-08-16T02:08:38.866430Z",
     "shell.execute_reply": "2022-08-16T02:08:38.864439Z"
    },
    "id": "1yCwwfMUWui7",
    "outputId": "76a53493-7200-4bcf-b2ee-063f308c0752",
    "papermill": {
     "duration": 0.029432,
     "end_time": "2022-08-16T02:08:38.869254",
     "exception": false,
     "start_time": "2022-08-16T02:08:38.839822",
     "status": "completed"
    },
    "tags": []
   },
   "outputs": [
    {
     "name": "stdout",
     "output_type": "stream",
     "text": [
      "MAE: 4907683.225380731\n",
      "MSE: 115523980276191.83\n",
      "RMSE: 10748208.235617314\n"
     ]
    }
   ],
   "source": [
    "import sklearn.metrics as metrics\n",
    "print('MAE: {}'.format(metrics.mean_absolute_error(y_test, y_pred)))\n",
    "print('MSE: {}'.format(metrics.mean_squared_error(y_test, y_pred)))\n",
    "print('RMSE: {}'.format(np.sqrt(metrics.mean_squared_error(y_test, y_pred))))"
   ]
  }
 ],
 "metadata": {
  "kernelspec": {
   "display_name": "Python 3",
   "language": "python",
   "name": "python3"
  },
  "language_info": {
   "codemirror_mode": {
    "name": "ipython",
    "version": 3
   },
   "file_extension": ".py",
   "mimetype": "text/x-python",
   "name": "python",
   "nbconvert_exporter": "python",
   "pygments_lexer": "ipython3",
   "version": "3.7.12"
  },
  "papermill": {
   "default_parameters": {},
   "duration": 36.540244,
   "end_time": "2022-08-16T02:08:39.706200",
   "environment_variables": {},
   "exception": null,
   "input_path": "__notebook__.ipynb",
   "output_path": "__notebook__.ipynb",
   "parameters": {},
   "start_time": "2022-08-16T02:08:03.165956",
   "version": "2.3.4"
  }
 },
 "nbformat": 4,
 "nbformat_minor": 5
}
